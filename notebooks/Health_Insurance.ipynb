{
 "cells": [
  {
   "cell_type": "code",
   "execution_count": 1,
   "metadata": {},
   "outputs": [],
   "source": [
    "import pandas as pd\n",
    "import numpy as np\n",
    "import matplotlib as mpl\n",
    "import matplotlib.pyplot as plt\n",
    "import seaborn as sns\n",
    "import sqlite3\n",
    "\n",
    "import dask.dataframe as ddf\n",
    "\n",
    "# https://www.kaggle.com/hhs/health-insurance-marketplace\n",
    "# https://www.kaggle.com/shelars1985/exploring-health-insurance-marketplace"
   ]
  },
  {
   "cell_type": "code",
   "execution_count": 4,
   "metadata": {
    "scrolled": false
   },
   "outputs": [
    {
     "name": "stdout",
     "output_type": "stream",
     "text": [
      "Total number of chunks: 14\n",
      "Average bytes per loop: 26485316.285714287\n",
      "BenefitName                  0\n",
      "BusinessYear                 0\n",
      "CoinsInnTier1           316175\n",
      "CoinsInnTier2          1185667\n",
      "CoinsOutofNet           316175\n",
      "CopayInnTier1           316175\n",
      "CopayInnTier2          1185667\n",
      "CopayOutofNet           316175\n",
      "EHBVarReason            950054\n",
      "Exclusions             1313736\n",
      "Explanation            1147515\n",
      "ImportDate                   0\n",
      "IsCovered                59616\n",
      "IsEHB                   385963\n",
      "IsExclFromInnMOOP       241147\n",
      "IsExclFromOonMOOP       241179\n",
      "IsStateMandate         1201678\n",
      "IsSubjToDedTier1       1448408\n",
      "IsSubjToDedTier2       1448408\n",
      "IssuerId                     0\n",
      "IssuerId2                    0\n",
      "LimitQty               1251896\n",
      "LimitUnit              1251885\n",
      "MinimumStay            1444031\n",
      "PlanId                       0\n",
      "QuantLimitOnSvc         970910\n",
      "RowNumber                    0\n",
      "SourceName                   0\n",
      "StandardComponentId          0\n",
      "StateCode                    0\n",
      "StateCode2                   0\n",
      "VersionNum                   0\n",
      "dtype: int64\n"
     ]
    },
    {
     "ename": "TypeError",
     "evalue": "'TextFileReader' object is not subscriptable",
     "output_type": "error",
     "traceback": [
      "\u001b[1;31m---------------------------------------------------------------------------\u001b[0m",
      "\u001b[1;31mTypeError\u001b[0m                                 Traceback (most recent call last)",
      "\u001b[1;32m<ipython-input-4-97996ba48b8a>\u001b[0m in \u001b[0;36m<module>\u001b[1;34m\u001b[0m\n\u001b[0;32m     20\u001b[0m \u001b[0mprint\u001b[0m\u001b[1;33m(\u001b[0m\u001b[1;34m\"Average bytes per loop:\"\u001b[0m\u001b[1;33m,\u001b[0m\u001b[0mave_bytes\u001b[0m\u001b[1;33m)\u001b[0m\u001b[1;33m\u001b[0m\u001b[1;33m\u001b[0m\u001b[0m\n\u001b[0;32m     21\u001b[0m \u001b[0mprint\u001b[0m\u001b[1;33m(\u001b[0m\u001b[0mser\u001b[0m\u001b[1;33m)\u001b[0m\u001b[1;33m\u001b[0m\u001b[1;33m\u001b[0m\u001b[0m\n\u001b[1;32m---> 22\u001b[1;33m \u001b[0mprint\u001b[0m\u001b[1;33m(\u001b[0m\u001b[0mdf_chunk\u001b[0m\u001b[1;33m[\u001b[0m\u001b[1;36m0\u001b[0m\u001b[1;33m]\u001b[0m\u001b[1;33m.\u001b[0m\u001b[0mhead\u001b[0m\u001b[1;33m(\u001b[0m\u001b[1;33m)\u001b[0m\u001b[1;33m)\u001b[0m\u001b[1;33m\u001b[0m\u001b[1;33m\u001b[0m\u001b[0m\n\u001b[0m",
      "\u001b[1;31mTypeError\u001b[0m: 'TextFileReader' object is not subscriptable"
     ]
    }
   ],
   "source": [
    "df_chunk = pd.read_csv('../data/csv/BenefitsCostSharing.csv', chunksize=100000)\n",
    "\n",
    "# Create a panda series of column names\n",
    "df = pd.read_csv('../data/csv/BenefitsCostSharing.csv').head(1)\n",
    "df_columns = list(df.columns)\n",
    "ser = pd.Series(0, index=df_columns)\n",
    "\n",
    "# Initialise a variable to compute average bytes per chunk\n",
    "ave_bytes = 0\n",
    "\n",
    "# then we initialise our loop counter\n",
    "count = 0\n",
    "\n",
    "for index, chunk in enumerate(df_chunk):\n",
    "    # We add total memory per chunk to ave_bytes\n",
    "    ave_bytes += chunk.memory_usage().sum()\n",
    "    df_isnull = chunk.isnull().sum()\n",
    "    ser += df_isnull\n",
    "    \n",
    "print(\"Total number of chunks:\",index)\n",
    "ave_bytes = ave_bytes / index\n",
    "print(\"Average bytes per loop:\",ave_bytes)\n",
    "print(ser)"
   ]
  },
  {
   "cell_type": "code",
   "execution_count": 8,
   "metadata": {},
   "outputs": [
    {
     "name": "stdout",
     "output_type": "stream",
     "text": [
      "Total number of chunks: 50\n",
      "Average bytes per loop: 25847983.52\n",
      "Number of rows in BenefitsCostSharing 5048408\n",
      "Number of uniuqe Benefits 6720\n"
     ]
    }
   ],
   "source": [
    "df_chunk = pd.read_csv('../data/csv/BenefitsCostSharing.csv', chunksize=100000)\n",
    "# Initialise a variable to compute average bytes per chunk\n",
    "ave_bytes = 0\n",
    "\n",
    "# then we initialise our loop counter\n",
    "count = 0\n",
    "unique = 0\n",
    "\n",
    "for index, chunk in enumerate(df_chunk):\n",
    "    # We add total memory per chunk to ave_bytes\n",
    "    ave_bytes += chunk.memory_usage().sum()\n",
    "    count += chunk.BenefitName.count()\n",
    "    unique += chunk.BenefitName.nunique() # WRONG NUMBER INVESTIGATE\n",
    "    \n",
    "print(\"Total number of chunks:\",index)\n",
    "ave_bytes = ave_bytes / index\n",
    "print(\"Average bytes per loop:\",ave_bytes)\n",
    "print(\"Number of rows in BenefitsCostSharing\", count)\n",
    "print(\"Number of uniuqe Benefits\", unique)"
   ]
  },
  {
   "cell_type": "code",
   "execution_count": null,
   "metadata": {
    "scrolled": true
   },
   "outputs": [],
   "source": [
    "df.BenefitName.nunique().compute()"
   ]
  },
  {
   "cell_type": "code",
   "execution_count": null,
   "metadata": {
    "scrolled": true
   },
   "outputs": [],
   "source": [
    "df[['LimitQty', 'MinimumStay']].describe().compute()"
   ]
  },
  {
   "cell_type": "code",
   "execution_count": null,
   "metadata": {},
   "outputs": [],
   "source": [
    "df['BenefitName'].describe().compute()"
   ]
  },
  {
   "cell_type": "code",
   "execution_count": null,
   "metadata": {},
   "outputs": [],
   "source": [
    "df[[\"BusinessYear\",\"BenefitName\"]].groupby('BusinessYear').BusinessYear.describe().compute()"
   ]
  },
  {
   "cell_type": "code",
   "execution_count": null,
   "metadata": {},
   "outputs": [],
   "source": [
    "def fetch_sql(query):\n",
    "    conn = sqlite3.connect('../data/sql/database.sqlite')\n",
    "    cur = conn.cursor()\n",
    "    coords = cur.execute(query).fetchall()\n",
    "    cur.close()\n",
    "    conn.close()\n",
    "    return coords"
   ]
  },
  {
   "cell_type": "code",
   "execution_count": null,
   "metadata": {},
   "outputs": [],
   "source": [
    "def fetch_sql_df(query):\n",
    "    conn = sqlite3.connect('../data/sql/database.sqlite')\n",
    "    df = pd.read_sql_query(query, conn, )\n",
    "    conn.close()\n",
    "    return df"
   ]
  },
  {
   "cell_type": "markdown",
   "metadata": {},
   "source": [
    "Let's start our journey by analyzing how plan rates and benefits vary across states?"
   ]
  },
  {
   "cell_type": "code",
   "execution_count": null,
   "metadata": {
    "scrolled": false
   },
   "outputs": [],
   "source": [
    "query = 'SELECT * FROM BenefitsCostSharing LIMIT 10;'\n",
    "df = fetch_sql_df(query)\n",
    "df"
   ]
  },
  {
   "cell_type": "markdown",
   "metadata": {},
   "source": [
    "Lets find columns with null values."
   ]
  },
  {
   "cell_type": "code",
   "execution_count": null,
   "metadata": {
    "scrolled": false
   },
   "outputs": [],
   "source": [
    "col = table_columns['BenefitsCostSharing']\n",
    "for c in col:\n",
    "    query = \"\"\"SELECT COUNT({}) \n",
    "                FROM BenefitsCostSharing \n",
    "                WHERE {} = '';\"\"\".format(c, c)\n",
    "    q = fetch_sql(query)\n",
    "    print(c, q[0][0]) # , round((q[0][0]/5048408*100),2))"
   ]
  },
  {
   "cell_type": "markdown",
   "metadata": {},
   "source": [
    "How many records do we have in our dataset?"
   ]
  },
  {
   "cell_type": "code",
   "execution_count": null,
   "metadata": {},
   "outputs": [],
   "source": [
    "query = '''SELECT COUNT(*)\n",
    "           FROM BenefitsCostSharing'''\n",
    "\n",
    "total_records = fetch_sql(query)\n",
    "\n",
    "print('Total records in file:', total_records[0][0])"
   ]
  },
  {
   "cell_type": "markdown",
   "metadata": {},
   "source": [
    "How many unique benefits do we have in our dataset?"
   ]
  },
  {
   "cell_type": "code",
   "execution_count": null,
   "metadata": {},
   "outputs": [],
   "source": [
    "query = \"\"\"SELECT COUNT (DISTINCT BenefitName)\n",
    "           FROM BenefitsCostSharing\n",
    "           \"\"\"\n",
    "unique_benifits = fetch_sql(query)\n",
    "\n",
    "print('Unique benefits present in file:', unique_benifits[0][0])"
   ]
  },
  {
   "cell_type": "markdown",
   "metadata": {},
   "source": [
    "We have 861 unique benefits sold in the US from 2014-16"
   ]
  },
  {
   "cell_type": "code",
   "execution_count": null,
   "metadata": {},
   "outputs": [],
   "source": [
    "query =  \"\"\"SELECT COUNT(LimitQty) AS N,\n",
    "            SUM(LimitQty) AS sum,\n",
    "            AVG(LimitQty) AS mean,\n",
    "            MIN(LimitQty) AS minimum,\n",
    "            MAX(LimitQty) AS maximum\n",
    "            FROM BenefitsCostSharing;\"\"\"\n",
    "q = fetch_sql(query)\n",
    "q"
   ]
  },
  {
   "cell_type": "code",
   "execution_count": null,
   "metadata": {},
   "outputs": [],
   "source": [
    "col = table_columns['BenefitsCostSharing']\n",
    "for c in col:\n",
    "    print(c)\n",
    "    query = \"\"\"SELECT STDEV({}) FROM BenefitsCostSharing;\"\"\".format(c)\n",
    "    print(query)\n",
    "    q = fetch_sql_df(query)\n",
    "    print(q)\n",
    "    break"
   ]
  },
  {
   "cell_type": "code",
   "execution_count": null,
   "metadata": {
    "scrolled": false
   },
   "outputs": [],
   "source": [
    "query = \"\"\"SELECT COUNT (BenefitName), COUNT (DISTINCT BenefitName), BusinessYear\n",
    "           FROM BenefitsCostSharing\n",
    "           GROUP BY BusinessYear;\n",
    "           \"\"\"\n",
    "\n",
    "fetch_sql_df(query)"
   ]
  },
  {
   "cell_type": "code",
   "execution_count": null,
   "metadata": {},
   "outputs": [],
   "source": [
    "query = \"\"\"SELECT year, name\n",
    "           FROM (SELECT BusinessYear as year, Benefitname as name, COUNT(*),\n",
    "                        ROW_NUMBER() OVER (PARTITION BY BusinessYear \n",
    "                                           ORDER BY COUNT(*) DESC) as rn\n",
    "                 FROM BenefitsCostSharing\n",
    "                 GROUP BY BusinessYear, Benefitname\n",
    "                 ) t\n",
    "           WHERE rn = 1;\"\"\"\n",
    "\n",
    "fetch_sql_df(query)"
   ]
  },
  {
   "cell_type": "code",
   "execution_count": null,
   "metadata": {
    "scrolled": true
   },
   "outputs": [],
   "source": [
    "query = \"\"\"SELECT StateCode AS State, COUNT(BenefitName) AS NumBenefits\n",
    "           FROM BenefitsCostSharing\n",
    "           GROUP BY StateCode\n",
    "           ORDER BY StateCode;\"\"\"\n",
    "\n",
    "state_df = fetch_sql_df(query)"
   ]
  },
  {
   "cell_type": "code",
   "execution_count": null,
   "metadata": {
    "scrolled": true
   },
   "outputs": [],
   "source": [
    "state_df.plot(kind='bar', x='State')"
   ]
  },
  {
   "cell_type": "code",
   "execution_count": null,
   "metadata": {},
   "outputs": [],
   "source": [
    "query = \"\"\"SELECT State, name\n",
    "           FROM (SELECT StateCode AS State, Benefitname as name, COUNT(*),\n",
    "                        ROW_NUMBER() OVER (PARTITION BY StateCode \n",
    "                                           ORDER BY COUNT(*) DESC) as rn\n",
    "                 FROM BenefitsCostSharing\n",
    "                 GROUP BY StateCode, Benefitname\n",
    "                 ) t\n",
    "           WHERE rn = 1;\"\"\"\n",
    "\n",
    "fetch_sql_df(query)"
   ]
  }
 ],
 "metadata": {
  "kernelspec": {
   "display_name": "Python 3",
   "language": "python",
   "name": "python3"
  },
  "language_info": {
   "codemirror_mode": {
    "name": "ipython",
    "version": 3
   },
   "file_extension": ".py",
   "mimetype": "text/x-python",
   "name": "python",
   "nbconvert_exporter": "python",
   "pygments_lexer": "ipython3",
   "version": "3.7.4"
  }
 },
 "nbformat": 4,
 "nbformat_minor": 2
}
